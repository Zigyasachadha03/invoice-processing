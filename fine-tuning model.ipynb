{
 "cells": [
  {
   "cell_type": "code",
   "execution_count": 2,
   "id": "26b51871",
   "metadata": {},
   "outputs": [
    {
     "name": "stdout",
     "output_type": "stream",
     "text": [
      "Collecting labelImg\n",
      "  Using cached labelImg-1.8.6-py2.py3-none-any.whl\n",
      "Requirement already satisfied: pyqt5 in c:\\users\\zigya\\appdata\\local\\programs\\python\\python311\\lib\\site-packages (from labelImg) (5.15.9)\n",
      "Requirement already satisfied: lxml in c:\\users\\zigya\\appdata\\local\\programs\\python\\python311\\lib\\site-packages (from labelImg) (4.9.2)\n",
      "Requirement already satisfied: PyQt5-sip<13,>=12.11 in c:\\users\\zigya\\appdata\\local\\programs\\python\\python311\\lib\\site-packages (from pyqt5->labelImg) (12.11.1)\n",
      "Requirement already satisfied: PyQt5-Qt5>=5.15.2 in c:\\users\\zigya\\appdata\\local\\programs\\python\\python311\\lib\\site-packages (from pyqt5->labelImg) (5.15.2)\n",
      "Installing collected packages: labelImg\n",
      "Successfully installed labelImg-1.8.6\n"
     ]
    }
   ],
   "source": [
    "!pip install labelImg"
   ]
  },
  {
   "cell_type": "code",
   "execution_count": 4,
   "id": "8dd28412",
   "metadata": {},
   "outputs": [],
   "source": [
    "import os\n",
    "import cv2\n",
    "import numpy as np\n",
    "import xml.etree.ElementTree as ET\n",
    "from labelImg import labelImg\n",
    "from keras.models import Model\n",
    "from keras.layers import Input, Flatten, Dense\n",
    "from keras.utils import to_categorical\n",
    "from keras.applications import VGG16\n",
    "from keras.optimizers import SGD\n",
    "from keras.callbacks import ModelCheckpoint"
   ]
  },
  {
   "cell_type": "code",
   "execution_count": 5,
   "id": "e1a270f3",
   "metadata": {},
   "outputs": [],
   "source": [
    "# Define constants\n",
    "NUM_CLASSES = 6\n",
    "BATCH_SIZE = 16\n",
    "NUM_EPOCHS = 50\n",
    "LEARNING_RATE = 1e-4"
   ]
  },
  {
   "cell_type": "code",
   "execution_count": 6,
   "id": "eea56644",
   "metadata": {},
   "outputs": [],
   "source": [
    "# Define paths to data\n",
    "DATA_DIR = \"C:\\\\Users\\\\zigya\\\\OneDrive\\\\Desktop\\\\Invoice-2\\\\data\"\n",
    "IMAGE_DIR = os.path.join(DATA_DIR, \"images\")\n",
    "ANNOT_DIR = os.path.join(DATA_DIR, \"labels\")\n",
    "TRAIN_DIR = os.path.join(DATA_DIR, \"train\")\n",
    "VAL_DIR = os.path.join(DATA_DIR, \"val\")\n",
    "TEST_DIR = os.path.join(DATA_DIR, \"test\")\n",
    "\n",
    "# Define class names\n",
    "CLASS_NAMES = [\"Company Name\", \"Name\", \"Address\", \"Item Description\", \"Item Amount\", \"Total Amount\"]\n"
   ]
  },
  {
   "cell_type": "code",
   "execution_count": 7,
   "id": "af252eed",
   "metadata": {},
   "outputs": [],
   "source": [
    "# Define function to load data\n",
    "def load_data(data_dir, split):\n",
    "    image_dir = os.path.join(data_dir, split)\n",
    "    annot_dir = os.path.join(data_dir, \"labels\")\n",
    "    images = []\n",
    "    labels = []\n",
    "    for filename in os.listdir(image_dir):\n",
    "        if filename.endswith(\".jpg\"):\n",
    "            image_path = os.path.join(image_dir, filename)\n",
    "            annot_path = os.path.join(annot_dir, os.path.splitext(filename)[0] + \".xml\")\n",
    "            tree = ET.parse(annot_path)\n",
    "            root = tree.getroot()\n",
    "            boxes = []\n",
    "            for obj in root.iter(\"object\"):\n",
    "                class_name = obj.find(\"name\").text\n",
    "                xmin = int(obj.find(\"bndbox\").find(\"xmin\").text)\n",
    "                ymin = int(obj.find(\"bndbox\").find(\"ymin\").text)\n",
    "                xmax = int(obj.find(\"bndbox\").find(\"xmax\").text)\n",
    "                ymax = int(obj.find(\"bndbox\").find(\"ymax\").text)\n",
    "                boxes.append([xmin, ymin, xmax, ymax, CLASS_NAMES.index(class_name)])\n",
    "            if boxes:\n",
    "                images.append(cv2.imread(image_path))\n",
    "                labels.append(np.array(boxes))\n",
    "    return np.array(images), np.array(labels)"
   ]
  },
  {
   "cell_type": "code",
   "execution_count": 9,
   "id": "a57be872",
   "metadata": {},
   "outputs": [],
   "source": [
    "# Load data\n",
    "X_train, y_train = load_data(DATA_DIR, \"train\")\n",
    "X_val, y_val = load_data(DATA_DIR, \"val\")"
   ]
  },
  {
   "cell_type": "code",
   "execution_count": 10,
   "id": "c0f79da1",
   "metadata": {},
   "outputs": [
    {
     "name": "stdout",
     "output_type": "stream",
     "text": [
      "Downloading data from https://storage.googleapis.com/tensorflow/keras-applications/vgg16/vgg16_weights_tf_dim_ordering_tf_kernels_notop.h5\n",
      "58889256/58889256 [==============================] - 10s 0us/step\n"
     ]
    }
   ],
   "source": [
    "# Load pre-trained VGG16 model\n",
    "base_model = VGG16(weights=\"imagenet\", include_top=False, input_tensor=Input(shape=(None,None,3)))\n",
    "\n",
    "# Freeze layers in the base model\n",
    "for layer in base_model.layers:\n",
    "    layer.trainable = False"
   ]
  },
  {
   "cell_type": "code",
   "execution_count": 18,
   "id": "3785c235",
   "metadata": {
    "scrolled": true
   },
   "outputs": [
    {
     "name": "stdout",
     "output_type": "stream",
     "text": [
      "(None,)\n"
     ]
    }
   ],
   "source": [
    "# Get the output of the base model\n",
    "x = base_model.output\n",
    "\n",
    "# Flatten the output\n",
    "x = Flatten()(x)\n",
    "\n",
    "# Define the input shape for the Dense layer\n",
    "input_shape = (x.shape[1],)\n",
    "\n",
    "print(input_shape)\n"
   ]
  },
  {
   "cell_type": "code",
   "execution_count": null,
   "id": "6b779a2e",
   "metadata": {},
   "outputs": [],
   "source": [
    "# Add new layers for classification\n",
    "x = base_model.output\n",
    "x = Flatten()(x)\n",
    "x = Dense(1024, activation=\"relu\")(x)\n",
    "x = Dense(NUM_CLASSES, activation=\"softmax\")(x)\n",
    "\n",
    "# Create new model\n",
    "model = Model(inputs=base_model.input, outputs=x)\n",
    "\n",
    "# Compile model\n",
    "sgd = SGD(lr=LEARNING_RATE, momentum=0.9, decay=0.0, nesterov=False)\n",
    "model.compile(optimizer=sgd, loss=\"categorical_crossentropy\", metrics=[\"accuracy\"])\n",
    "\n",
    "# Create directories for training\n",
    "if not os.path.exists(TRAIN_DIR):\n",
    "    os.makedirs(TRAIN_DIR)\n",
    "if not os.path.exists(VAL_DIR):\n",
    "    os.makedirs(VAL_DIR)\n",
    "\n",
    "# Convert labels to categorical format\n",
    "y_train_cat = to_categorical(y_train[:, :, 4], num_classes=NUM_CLASSES)\n",
    "y_val_cat = to_categorical(y_val[:, :, \n"
   ]
  }
 ],
 "metadata": {
  "kernelspec": {
   "display_name": "Python 3 (ipykernel)",
   "language": "python",
   "name": "python3"
  },
  "language_info": {
   "codemirror_mode": {
    "name": "ipython",
    "version": 3
   },
   "file_extension": ".py",
   "mimetype": "text/x-python",
   "name": "python",
   "nbconvert_exporter": "python",
   "pygments_lexer": "ipython3",
   "version": "3.11.2"
  }
 },
 "nbformat": 4,
 "nbformat_minor": 5
}
